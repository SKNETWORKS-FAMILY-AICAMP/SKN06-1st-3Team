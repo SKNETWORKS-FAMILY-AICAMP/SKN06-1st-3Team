{
 "cells": [
  {
   "cell_type": "code",
   "execution_count": 4,
   "id": "56025e61-3c3a-4432-9d8a-d534c2a4dceb",
   "metadata": {},
   "outputs": [
    {
     "name": "stdout",
     "output_type": "stream",
     "text": [
      "insert된 총 행수: 18\n"
     ]
    }
   ],
   "source": [
    "from accident_class import CARDao\n",
    "import csv\n",
    "import configparser as parser\n",
    "\n",
    "props = parser.ConfigParser()  # Parser객체 생성\n",
    "props.read(\"./config.ini\")     # ini 파일 읽기\n",
    "mysql_config = props['MYSQL']  # MYSQL Section \"[MYSQL]\"의 설정정보 조회\n",
    "\n",
    "cars = CARDao(\n",
    "    mysql_config['host'],\n",
    "    3306, \n",
    "    mysql_config['user'],\n",
    "    mysql_config['password'],\n",
    "    mysql_config['db']\n",
    ")\n",
    "\n",
    "\n",
    "sido = []\n",
    "f = open('accident.csv', 'r', encoding=\"utf-8\")\n",
    "r = csv.reader(f)\n",
    "for line in r:\n",
    "    sido.append(line[0])\n",
    "f.close()\n",
    "\n",
    "data = list(filter(None,set(sido)))\n",
    "cars.insert_sido(data)\n"
   ]
  },
  {
   "cell_type": "code",
   "execution_count": null,
   "id": "26ddd18a-9690-4463-b128-64ccd9c9806e",
   "metadata": {},
   "outputs": [],
   "source": []
  },
  {
   "cell_type": "code",
   "execution_count": null,
   "id": "8db29fcb-1693-46eb-974f-6be859b4b72c",
   "metadata": {},
   "outputs": [],
   "source": []
  }
 ],
 "metadata": {
  "kernelspec": {
   "display_name": "Python 3 (ipykernel)",
   "language": "python",
   "name": "python3"
  },
  "language_info": {
   "codemirror_mode": {
    "name": "ipython",
    "version": 3
   },
   "file_extension": ".py",
   "mimetype": "text/x-python",
   "name": "python",
   "nbconvert_exporter": "python",
   "pygments_lexer": "ipython3",
   "version": "3.12.5"
  }
 },
 "nbformat": 4,
 "nbformat_minor": 5
}
