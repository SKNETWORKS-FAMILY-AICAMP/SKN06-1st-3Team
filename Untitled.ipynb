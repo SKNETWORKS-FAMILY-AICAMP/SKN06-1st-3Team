{
 "cells": [
  {
   "cell_type": "code",
   "execution_count": 13,
   "id": "56025e61-3c3a-4432-9d8a-d534c2a4dceb",
   "metadata": {},
   "outputs": [],
   "source": [
    "import csv\n",
    "from accident_class import CARDao\n",
    "import configparser as parser\n",
    "\n",
    "# configparser에서 MYSQL연결 정보 조회\n",
    "props = parser.ConfigParser()  # Parser객체 생성\n",
    "props.read(\"./config.ini\")     # ini 파일 읽기\n",
    "mysql_config = props['MYSQL']  # MYSQL Section \"[MYSQL]\"의 설정정보 조회\n",
    "\n",
    "dao = CARDao(\n",
    "    mysql_config['host'],\n",
    "    3306, \n",
    "    mysql_config['user'],\n",
    "    mysql_config['password'],\n",
    "    mysql_config['db']\n",
    ")\n",
    "\n",
    "\n",
    "# f = open('accident.csv', 'r')\n",
    "# rdr = csv.reader(f)\n",
    "# for line in rdr:\n",
    "#   print(line)\n",
    "\n",
    "\n",
    "# f.close()"
   ]
  },
  {
   "cell_type": "code",
   "execution_count": null,
   "id": "26ddd18a-9690-4463-b128-64ccd9c9806e",
   "metadata": {},
   "outputs": [],
   "source": []
  }
 ],
 "metadata": {
  "kernelspec": {
   "display_name": "Python 3 (ipykernel)",
   "language": "python",
   "name": "python3"
  },
  "language_info": {
   "codemirror_mode": {
    "name": "ipython",
    "version": 3
   },
   "file_extension": ".py",
   "mimetype": "text/x-python",
   "name": "python",
   "nbconvert_exporter": "python",
   "pygments_lexer": "ipython3",
   "version": "3.12.5"
  }
 },
 "nbformat": 4,
 "nbformat_minor": 5
}
