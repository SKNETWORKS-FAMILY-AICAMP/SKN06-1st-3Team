{
 "cells": [
  {
   "cell_type": "code",
   "execution_count": 15,
   "id": "56025e61-3c3a-4432-9d8a-d534c2a4dceb",
   "metadata": {},
   "outputs": [
    {
     "name": "stdout",
     "output_type": "stream",
     "text": [
      "사고 수: 690\n"
     ]
    }
   ],
   "source": [
    "from accident_class import CARDao\n",
    "import csv\n",
    "import configparser as parser\n",
    "props = parser.ConfigParser()  # Parser객체 생성\n",
    "props.read(\"./config.ini\")     # ini 파일 읽기\n",
    "mysql_config = props['MYSQL']  # MYSQL Section \"[MYSQL]\"의 설정정보 조회\n",
    "\n",
    "cars = CARDao(\n",
    "    mysql_config['host'],\n",
    "    3306, \n",
    "    mysql_config['user'],\n",
    "    mysql_config['password'],\n",
    "    mysql_config['db']\n",
    ")\n",
    "\n",
    "sido = []\n",
    "sigungu = []\n",
    "gungu_data = []\n",
    "death_type = []\n",
    "accident_data = []\n",
    "gungu_arr = []\n",
    "\n",
    "f = open('accident.csv', 'r', encoding=\"utf-8\")\n",
    "r = csv.reader(f)\n",
    "next(r)\n",
    "next(r)\n",
    "for line in r:\n",
    "    gungu = line[0]+\" \"+line[1]\n",
    "    sigungu.append(gungu)\n",
    "    death_type.append(line[2])\n",
    "    accident_data.append(line)\n",
    "f.close()\n",
    "\n",
    "sigungu = list(filter(None,set(sigungu)))\n",
    "\n",
    "for i in sigungu :\n",
    "    if i.find(\" \") != -1 :\n",
    "        sidogun_arr = i.split(' ')\n",
    "        gungu_arr.append(sidogun_arr)\n",
    "        # 시 데이터 list화\n",
    "        sido.append(sidogun_arr[0])\n",
    "\n",
    "# 중복 제거 후 시 데이터 insert\n",
    "si_data = list(filter(None,set(sido)))\n",
    "cars.insert_sido(si_data)\n",
    "\n",
    "for i in gungu_arr :\n",
    "    # 군구 데이터 list화\n",
    "    gungu_data.append([int(cars.select_si(i[0])[0]), i[1]])\n",
    "\n",
    "# 중복 제거 후 시군구 데이터 insert\n",
    "gungu_data = list(set([tuple(gg) for gg in gungu_data]))\n",
    "for i in gungu_data :\n",
    "    cars.insert_sigungu(i)\n",
    "\n",
    "# 사고 타입\n",
    "death_type = list(filter(None,set(death_type)))\n",
    "cars.insert_death_type(death_type)\n",
    "#함수\n",
    "\n",
    "# 데이터 입력\n",
    "for data in accident_data :\n",
    "    data[0] = cars.select_si(data[0])[0]\n",
    "    data[1] = cars.select_sigungu(data[1])[0]\n",
    "    data[2] = cars.select_death_type(data[2])[0]\n",
    "    for i in range(3, 9) :\n",
    "        if data[i] == '-' :\n",
    "            data[i] = 0\n",
    "\n",
    "cars.insert_accident_data(accident_data)\n",
    "\n",
    "import pandas as pd\n",
    "\n",
    "\n",
    "\n"
   ]
  },
  {
   "cell_type": "code",
   "execution_count": null,
   "id": "26ddd18a-9690-4463-b128-64ccd9c9806e",
   "metadata": {},
   "outputs": [],
   "source": []
  },
  {
   "cell_type": "code",
   "execution_count": null,
   "id": "8db29fcb-1693-46eb-974f-6be859b4b72c",
   "metadata": {},
   "outputs": [],
   "source": []
  }
 ],
 "metadata": {
  "kernelspec": {
   "display_name": "Python 3 (ipykernel)",
   "language": "python",
   "name": "python3"
  },
  "language_info": {
   "codemirror_mode": {
    "name": "ipython",
    "version": 3
   },
   "file_extension": ".py",
   "mimetype": "text/x-python",
   "name": "python",
   "nbconvert_exporter": "python",
   "pygments_lexer": "ipython3",
   "version": "3.12.5"
  }
 },
 "nbformat": 4,
 "nbformat_minor": 5
}
